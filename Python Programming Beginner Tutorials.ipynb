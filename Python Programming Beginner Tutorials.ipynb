{
 "cells": [
  {
   "cell_type": "markdown",
   "metadata": {},
   "source": [
    "# Python Programming Beinners Tutorial"
   ]
  },
  {
   "cell_type": "markdown",
   "metadata": {},
   "source": [
    "# "
   ]
  },
  {
   "cell_type": "markdown",
   "metadata": {},
   "source": [
    "### PYFB - Lesson 2 - Strings "
   ]
  },
  {
   "cell_type": "code",
   "execution_count": 4,
   "metadata": {},
   "outputs": [
    {
     "name": "stdout",
     "output_type": "stream",
     "text": [
      "Hello,Mark. Welcome!\n"
     ]
    }
   ],
   "source": [
    "greeting = 'hello'\n",
    "name = 'mark'\n",
    "\n",
    "#message = '{},{}. Welcome!\".format(greeting,name)\n",
    "## uses the fstrings\n",
    "message = f'{greeting.capitalize()},{name.capitalize()}. Welcome!'\n",
    "\n",
    "print (message)"
   ]
  },
  {
   "cell_type": "code",
   "execution_count": 1,
   "metadata": {},
   "outputs": [
    {
     "name": "stdout",
     "output_type": "stream",
     "text": [
      "Hello,me\n",
      "Hello,yous\n"
     ]
    }
   ],
   "source": [
    "# script function to demonstrate curly parenthesis \n",
    "\n",
    "def greet(who):\n",
    "    greeting = 'Hello,{}'.format(who)\n",
    "    return greeting\n",
    "\n",
    "print (greet('me'))\n",
    "print (greet('yous'))"
   ]
  },
  {
   "cell_type": "code",
   "execution_count": null,
   "metadata": {},
   "outputs": [],
   "source": [
    "pass in variable to find all methods for particular var\n",
    "\n",
    "print(dir(greeting))\n",
    "\n",
    "for more info run on the datatype \n",
    "\n",
    "print(help(str))"
   ]
  },
  {
   "cell_type": "markdown",
   "metadata": {},
   "source": [
    "### PYFB - Lesson 3 - Intergers and Floats - "
   ]
  },
  {
   "cell_type": "code",
   "execution_count": null,
   "metadata": {},
   "outputs": [],
   "source": [
    "# ints are whole numbers, floats are floating point - obvs\n",
    "#Arethmetic Operators:\n",
    "#addition       = 3+2\n",
    "#subtraction    = 3-2\n",
    "#multiplication = 3*2\n",
    "#division       = 3/2\n",
    "#floor division = 3//2 (shows the return of division with no decimal)\n",
    "#exponet        = 3**2\n",
    "#modulus        = 3%2 (shows the remainder in a division) - show if number is even or odd"
   ]
  },
  {
   "cell_type": "code",
   "execution_count": 10,
   "metadata": {},
   "outputs": [
    {
     "name": "stdout",
     "output_type": "stream",
     "text": [
      "2\n",
      "3\n",
      "3.14\n"
     ]
    }
   ],
   "source": [
    "# function to increment: workes with the other arethmetic operators\n",
    "num = 1 \n",
    "num += 1 \n",
    "print(num)\n",
    "\n",
    "# function to find the absolute value :\n",
    "print (abs(-3)) #= 3\n",
    "\n",
    "#fuction to round values of float\n",
    "print (round(3.142,2)) #=3.14"
   ]
  },
  {
   "cell_type": "code",
   "execution_count": 12,
   "metadata": {},
   "outputs": [
    {
     "name": "stdout",
     "output_type": "stream",
     "text": [
      "100200\n",
      "300\n"
     ]
    }
   ],
   "source": [
    "# casting strings to int\n",
    "num_1 = '100'\n",
    "num_2 = '200'\n",
    "print (num_1+num_2) #= 100200 (concat of string rather than addition) so :\n",
    "num_int_1 = int(num_1)\n",
    "num_int_2 = int(num_2)\n",
    "print(num_int_1+num_int_2) #  =300 \n"
   ]
  },
  {
   "cell_type": "markdown",
   "metadata": {},
   "source": [
    "### PYFB - Lesson 4 - List, Tuples and Sets"
   ]
  },
  {
   "cell_type": "code",
   "execution_count": null,
   "metadata": {},
   "outputs": [],
   "source": [
    "##LISTS##\n",
    "\n",
    "# list in [], is mutable, comma separated\n",
    "courses = ['maths','english','science','history']\n",
    "print (courses) # returns the list\n",
    "print (len(courses)) # returns how many in the list\n",
    "print (courses[0]) # returns index value of list (starts at 0)\n",
    "print (courses[-1]) # returns the last value in the list\n",
    "print (courses[:2]) # bring back the values from the beginning up to but not including the ix value\n",
    "\n",
    "# further info on slicing https://youtu.be/W8KRzm-HUcc?list=PL-osiE80TeTskrapNbzXhwoFUiLCjGgY7\n",
    "\n",
    "# add to the end of a list with .append:\n",
    "courses.append('economics')\n",
    "print(courses)\n",
    "\n",
    "# add to an ix position within the list with .insert requires 2 arguments (ix,value)\n",
    "courses.insert(0,'french')\n",
    "print(courses)\n",
    "\n",
    "# merges lists together .extend - requires 1 argument\n",
    "courses_2 = ['welsh','spanish']\n",
    "courses.extend(courses_2)\n",
    "print(courses)\n",
    "\n",
    "# remove a known value from the list .remove()\n",
    "courses.remove('spanish')\n",
    "print (courses)\n",
    "\n",
    "# remove the last value from the list - and passes to a variable if required - useful for queues\n",
    "poped_var = courses.pop()\n",
    "print(poped_var)\n",
    "print (courses)  #has removed welsh\n",
    "\n",
    "## BASIC SORTING OF LISTS##\n",
    "# reverse the list \n",
    "courses.reverse()\n",
    "print (courses)\n",
    "\n",
    "#sort method - sorts in alphabetical order (string), ascending for ints/floats\n",
    "courses.sort()\n",
    "print(courses)\n",
    "\n",
    "nums = [7,3,5,12,2.5,1]\n",
    "nums.sort()\n",
    "print(nums)\n",
    "# sort.(reverse=True) # descending order sort\n",
    "\n",
    "# function to return a var and leave original list unsorted - also takes the reverse=True arguement \n",
    "sorted_list = sorted(courses)\n",
    "print (sorted_list)\n",
    "\n",
    "# returns min,max,sum of int/float lists:\n",
    "print (min(nums)) \n",
    "print(max(nums))\n",
    "print (sum(nums))\n",
    "\n",
    "## loctate index value of a string in a list .index()\n",
    "print(courses.index('english'))\n",
    "\n",
    "# boolean to determine if value is in the list\n",
    "print('history' in courses)\n",
    "\n",
    "\n",
    "    \n"
   ]
  },
  {
   "cell_type": "code",
   "execution_count": null,
   "metadata": {},
   "outputs": [],
   "source": [
    "##LISTS part 2 - with some looping\n",
    "\n",
    "#basic loop to find the same thing \n",
    "for list in courses:\n",
    "    print(list)\n",
    "    \n",
    "#basic loop to find both the list item and the index value\n",
    "\n",
    "for index,list in enumerate (courses):\n",
    "    print(index,list)    \n",
    "# add a start value for the loop\n",
    "\n",
    "for index,list in enumerate (courses,start=2):\n",
    "    print(index,list)           \n",
    "    \n",
    "# turns list into comma separated string\n",
    "\n",
    "courses_str = ','.join(courses)\n",
    "print(courses_str)   \n",
    "\n",
    "# the reverse list from delimeted string\n",
    "\n",
    "another_list = courses_str.split(',')\n",
    "print (another_list)\n"
   ]
  },
  {
   "cell_type": "code",
   "execution_count": null,
   "metadata": {},
   "outputs": [],
   "source": [
    "##Tuples and Sets\n",
    "# tuples are a lot like lists but are immutable\n",
    "# use in cases when no requirement for updating or ammending\n",
    "\n",
    "##SETS##\n",
    "# unordered and with no duplicates - set in curly paranthesis {}\n",
    "# used to remove duplicates\n",
    "# used to test if part of a set\n",
    "\n",
    "cs_courses = {'science', 'maths', 'history', 'french', 'english', 'economics'}\n",
    "other_courses =  {'science', 'maths', 'welsh', 'art', 'english', 'economics'}\n",
    "\n",
    "# what values do the sets have in common .intersetion():\n",
    "print (cs_courses.intersection(other_courses))\n",
    "# what courses are different .difference()\n",
    "print (cs_courses.difference(other_courses))\n",
    "#combine the 2 sets\n",
    "comb_set = cs_courses.union(other_courses)\n",
    "print(comb_set)\n",
    "\n",
    "\n",
    "##create empty list,tuples & sets\n",
    "\n",
    "var = list()  # or var = []\n",
    "var = tuple() # or var = {}\n",
    "var = set()   # var = {} is a dictionary\n",
    "\n",
    "\n"
   ]
  },
  {
   "cell_type": "markdown",
   "metadata": {},
   "source": [
    "### PYFB - Lesson 5 - Dictionarys"
   ]
  },
  {
   "cell_type": "code",
   "execution_count": null,
   "metadata": {},
   "outputs": [],
   "source": [
    "# key value pair - key is location, value is the info\n",
    "# syntax:    key    value  \n",
    "dic_var = {'name':'mark'}\n",
    "print (dic_var)\n",
    "#dictonarys can include list:\n",
    "student = {'name':'Mark','age':5,'subject':['python','databricks']}\n",
    "print (student)\n",
    "# access the value by the key of the dict:\n",
    "print (student['name'])\n",
    "print (student['subject'])\n",
    "# keys can be ints/strings whatevs\n",
    "print(student.get('name')) # returns same but useful for keys that don't exist as returns none or pass a 2nd argument:\n",
    "print(student.get('number','not found'))\n",
    "# add to dictionary\n",
    "student ['phone'] = '442-244' # adds in new key/value pair to dict\n",
    "student['name'] = 'Tostig' # updates the current value of the key name\n",
    "print(student)\n",
    "# obvs there is a function to update also, update takes a dictorary as argument:\n",
    "student.update({'name':'Mark','age':6})\n",
    "print(student)\n",
    "# del deletes a name/value pair based on the name\n",
    "del student ['name']\n",
    "print(student)\n",
    "# can also use pop! - \n",
    "age = student.pop('age')\n",
    "print(age)\n",
    "# print(len(student()) - returns the no of key value pairs in the dict\n",
    "# print (student.keys()) - shows all keys, print(student.values()) - shows all values\n",
    "print(student.items()) # shows the pairs, so handy for looping:\n",
    "for key,value in student.items():\n",
    "    print(key,value)\n",
    "# "
   ]
  },
  {
   "cell_type": "markdown",
   "metadata": {},
   "source": [
    "### PYFB - Lesson 6 - Conditionals & Booleans"
   ]
  },
  {
   "cell_type": "code",
   "execution_count": 34,
   "metadata": {},
   "outputs": [
    {
     "name": "stdout",
     "output_type": "stream",
     "text": [
      "boo it's, probably R\n",
      "Denied\n",
      "loggin fool\n",
      "1933477620224\n",
      "1933481324928\n",
      "True\n",
      "False\n",
      "True\n"
     ]
    }
   ],
   "source": [
    "# conditionals ask the question is this true (boolean) if,elif,else:\n",
    "lang = 'r'\n",
    "\n",
    "if lang == 'python':\n",
    "    print (\"yay it's, \"+ lang)\n",
    "elif lang =='Java':\n",
    "    print (\"wait it's, \"+ lang)   \n",
    "else:\n",
    "    print(\"boo it's, probably R\") \n",
    "       \n",
    "#  example of and, or, not conditionals\n",
    "\n",
    "user = 'Admin'\n",
    "loggedin =False\n",
    "\n",
    "if user == 'Admin' and loggedin:\n",
    "    print('proceed')\n",
    "else:\n",
    "    print('Denied')  \n",
    " \n",
    " # replace to or if we only care if 1 condition is met, not switched a boolean     \n",
    "if not loggedin:\n",
    "    print ('loggin fool')\n",
    "else:\n",
    "    print('proceed,padawan')  \n",
    "\n",
    "# is vs '==' is compares the memory value assignment of the variable, == tests if the values are the same :\n",
    "a = [1,2,3]\n",
    "b = [1,2,3]\n",
    "print (id(a))\n",
    "print (id(b))\n",
    "print (a==b) # is TRUE\n",
    "print (a is b) # false\n",
    "print (a is a) #TRUE\n",
    "\n",
    "# objects that evaluate to FALSE#\n",
    "#False (obviously)\n",
    "#None\n",
    "#0\n",
    "#any empty sequence so '',(),[]\n",
    "#any empty dictionary {}\n",
    "\n",
    "# everything else evaluates to True\n",
    "    "
   ]
  },
  {
   "cell_type": "markdown",
   "metadata": {},
   "source": [
    "### PYFB - Lesson 7 - Loops and Iterations"
   ]
  },
  {
   "cell_type": "code",
   "execution_count": null,
   "metadata": {},
   "outputs": [],
   "source": [
    "# quick loop to print the numbers \n",
    "nums = [1,2,3,4,5]\n",
    "for num in nums:\n",
    "    print (num)\n",
    "    \n",
    "# important KEYWORD - break, continue:\n",
    "\n",
    "nums = [1,2,3,4,5] # code continues until num==3 is true then triggers the print 'found num!' and then breaks before printing 3\n",
    "for num in nums:\n",
    "    if num == 3:\n",
    "        print('found num!')\n",
    "        break\n",
    "    print (num)\n",
    "    \n",
    "nums = [1,2,3,4,5] # code continues until num==3 is true then triggers the print 'found num!' but continues the loop not printing the 3\n",
    "for num in nums:\n",
    "    if num == 3:\n",
    "        print('found num!')\n",
    "        continue\n",
    "    print (num)    \n",
    "#  nested loops - include a loop within another loop to bring back product of all values:\n",
    "\n",
    "nums = [1,2,3,4,5]\n",
    "for num in nums: \n",
    "    for letter in 'abc':\n",
    "        print (num,letter) \n",
    "#   ranged loops - specify the number of iterations accepts argument of starving val and iteration end range(s,it)\n",
    "\n",
    "for var in range(10):\n",
    "    print(var)  \n",
    "    \n",
    "# WHILE loops : will keep going until condition is met or loop is broken\n",
    "x=0\n",
    "while x < 10:\n",
    "    print(x)\n",
    "    x += 1\n",
    "#  also add conditional if x==5\n",
    "#                       break to break the loop\n",
    "\n",
    "       \n",
    "    "
   ]
  },
  {
   "cell_type": "markdown",
   "metadata": {},
   "source": [
    "### PYFB - LESSON 8 - Functions"
   ]
  },
  {
   "cell_type": "code",
   "execution_count": 47,
   "metadata": {},
   "outputs": [
    {
     "name": "stdout",
     "output_type": "stream",
     "text": [
      "hello function !\n",
      "yo, spuzzles..yous a splooter!\n"
     ]
    }
   ],
   "source": [
    "# user defined bits of code packaged to several times and on differing variables\n",
    "\n",
    "def hello_func():\n",
    "    #pass # a placeholder to allow code to be put in later\n",
    "    print ('hello function !')\n",
    "\n",
    "hello_func()\n",
    "\n",
    "# pass an argumenet into a function to return something useful:\n",
    "\n",
    "def hi_func(greeting):\n",
    "        return f'{greeting} function is ace!'\n",
    "hi_func('tospot')   \n",
    "\n",
    "# passing in a default value to a function, if no argument given will default\n",
    "\n",
    "def greet_func(greet= 'hi',name ='spuzzles'):\n",
    "    return f'{greet}, {name}..yous a splooter!'\n",
    "print(greet_func('yo'))\n",
    "#\n",
    "\n"
   ]
  },
  {
   "cell_type": "markdown",
   "metadata": {},
   "source": [
    "### PYFB - LESSON 9 - Import Modules and exploring the standard Library"
   ]
  },
  {
   "cell_type": "code",
   "execution_count": 48,
   "metadata": {},
   "outputs": [
    {
     "name": "stdout",
     "output_type": "stream",
     "text": [
      "None\n"
     ]
    }
   ],
   "source": []
  },
  {
   "cell_type": "markdown",
   "metadata": {},
   "source": [
    "### OS Module\n"
   ]
  },
  {
   "cell_type": "code",
   "execution_count": null,
   "metadata": {},
   "outputs": [],
   "source": [
    "import os\n",
    "#print (dir(os)) #returns all attributes and methods\n",
    "\n",
    "print (os.getcwd()) # current working directory\n",
    "\n",
    "#os.chdir('e:/My Drive/python/') #changes the working directory\n",
    "\n",
    "#create a new folder/directory structure\n",
    "#os.mkdir('demo')\n",
    "#os.makedirs('demo/sub1') # allows nested folder structure\n",
    "# delete directory\n",
    "#os.rmdirs('demo')\n",
    "#os.rmeovedirs('demo') # similar to above - good for nested dirs\n",
    "\n",
    "#rename a file\n",
    "#os.rename('old_name.txt','new_name.txt')\n",
    "\n",
    "#print(os.stat('demo.txt'))  #useful stats about a file timestamps ect\n",
    "\n",
    "#print(os.listdir()) # files in working directory, also accepts filepath#\n",
    "\n",
    "'''for dirpath,dirnames,filename in os.walk(os.getcwd()):\n",
    "    print (dirpath)\n",
    "    print (dirnames)\n",
    "    print (filename)'''\n",
    "    \n",
    "## useful to grab home dir:\n",
    "print (os.environ.get('HOME'))\n",
    "\n",
    "# to join to a var to create a new file eg\n",
    "\n",
    "file_path = os.path.join(os.environ.get('HOME'),'test.txt')\n",
    "print (file_path)\n",
    "    \n",
    "\n",
    "\n",
    " "
   ]
  },
  {
   "cell_type": "markdown",
   "metadata": {},
   "source": []
  },
  {
   "cell_type": "code",
   "execution_count": null,
   "metadata": {},
   "outputs": [],
   "source": []
  }
 ],
 "metadata": {
  "interpreter": {
   "hash": "dfceb5baea67262f282cb7d97532c95fda659865c19c5d208454725708166865"
  },
  "kernelspec": {
   "display_name": "Python 3.10.2 64-bit",
   "language": "python",
   "name": "python3"
  },
  "language_info": {
   "codemirror_mode": {
    "name": "ipython",
    "version": 3
   },
   "file_extension": ".py",
   "mimetype": "text/x-python",
   "name": "python",
   "nbconvert_exporter": "python",
   "pygments_lexer": "ipython3",
   "version": "3.10.2"
  },
  "orig_nbformat": 4
 },
 "nbformat": 4,
 "nbformat_minor": 2
}
