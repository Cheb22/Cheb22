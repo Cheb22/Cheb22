{
 "cells": [
  {
   "cell_type": "markdown",
   "metadata": {},
   "source": [
    "### 1. Convert radians into degrees\n",
    "Write a function in Python that accepts one numeric parameter. This parameter will be the measure of an angle in radians. The function should convert the radians into degrees and then return that value.\n",
    "\n",
    "While you might find a Python library to do this for you, you should write the function yourself. One hint you get is that you'll need to use Pi in order to solve this problem. You can import the value for Pi from Python's math module."
   ]
  },
  {
   "cell_type": "markdown",
   "metadata": {},
   "source": [
    "https://www.codecademy.com/resources/blog/python-code-challenges-for-beginners/"
   ]
  },
  {
   "cell_type": "code",
   "execution_count": 1,
   "metadata": {},
   "outputs": [
    {
     "name": "stdout",
     "output_type": "stream",
     "text": [
      "172\n"
     ]
    }
   ],
   "source": [
    "def round_func(ang):\n",
    "    return (round(ang*180/3.142))\n",
    "\n",
    "print(round_func(3))"
   ]
  },
  {
   "cell_type": "markdown",
   "metadata": {},
   "source": [
    "### 2. Sort a list\n",
    "Create a function in Python that accepts two parameters. The first will be a list of numbers. The second parameter will be a string that can be one of the following values: asc, desc, and none.\n",
    "\n",
    "If the second parameter is \"asc,\" then the function should return a list with the numbers in ascending order. If it's \"desc,\" then the list should be in descending order, and if it's \"none,\" it should return the original list unaltered."
   ]
  },
  {
   "cell_type": "code",
   "execution_count": 21,
   "metadata": {},
   "outputs": [
    {
     "name": "stdout",
     "output_type": "stream",
     "text": [
      "[10000, 67, 44, 33, 23, 12, 6, 5, 1]\n"
     ]
    }
   ],
   "source": [
    "def sort_list(numbs,sorder):\n",
    "        if sorder == 'desc':\n",
    "            numb2 = sorted(numbs,reverse=True)\n",
    "            return (numb2)\n",
    "        elif sorder == 'asc':\n",
    "            numb2 = sorted(numbs)\n",
    "            return (numb2)\n",
    "        elif sorder == 'none':\n",
    "            return (numbs)\n",
    "        else:\n",
    "            return('not a valid order tosspot')\n",
    "\n",
    "print(sort_list([67,33,23,12,44,5,6,1,10000],'desc'))    "
   ]
  },
  {
   "cell_type": "markdown",
   "metadata": {},
   "source": [
    "### 3. Convert a decimal number into binary\n",
    "Write a function in Python that accepts a decimal number and returns the equivalent binary number. To make this simple, the decimal number will always be less than 1,024, so the binary number returned will always be less than ten digits long."
   ]
  },
  {
   "cell_type": "code",
   "execution_count": 27,
   "metadata": {},
   "outputs": [
    {
     "name": "stdout",
     "output_type": "stream",
     "text": [
      "1\n",
      "1\n",
      "None\n"
     ]
    }
   ],
   "source": [
    "#Input : 7                                                         \n",
    "#Output :111\n",
    "\n",
    "#Input :10\n",
    "#Output :1010\n",
    "\n",
    "def dtb(num):\n",
    "    if num >1:\n",
    "        dtb(num//2)\n",
    "        print(num % 2)\n",
    "\n",
    "print(dtb(7))\n",
    "\n"
   ]
  },
  {
   "cell_type": "markdown",
   "metadata": {},
   "source": [
    "### 4. Count the vowels in a string\n",
    "Create a function in Python that accepts a single word and returns the number of vowels in that word. In this function, only a, e, i, o, and u will be counted as vowels — not y."
   ]
  },
  {
   "cell_type": "code",
   "execution_count": 42,
   "metadata": {},
   "outputs": [
    {
     "name": "stdout",
     "output_type": "stream",
     "text": [
      "2\n",
      "['u', 'i']\n"
     ]
    }
   ],
   "source": [
    "\n",
    "\n",
    "def vow (word,vowels):\n",
    "        tot = [x for x in word if x in vowels]\n",
    "        print(len(tot))\n",
    "        print(tot)\n",
    "\n",
    "vow('turnip','aeiou')\n"
   ]
  },
  {
   "cell_type": "markdown",
   "metadata": {},
   "source": [
    "#### 5. Hide the credit card number\n",
    "Write a function in Python that accepts a credit card number. It should return a string where all the characters are hidden with an asterisk except the last four. For example, if the function gets sent \"4444444444444444\", then it should return \"4444\"."
   ]
  },
  {
   "cell_type": "code",
   "execution_count": 59,
   "metadata": {},
   "outputs": [
    {
     "name": "stdout",
     "output_type": "stream",
     "text": [
      "************1231\n"
     ]
    }
   ],
   "source": [
    "def maskcc (ccstr):\n",
    "    if len(ccstr) != 16:\n",
    "        print('not a valid cc',ccstr) \n",
    "    else:\n",
    "        ccmask = str(ccstr[12:])\n",
    "        ccstar = '************'+ccmask\n",
    "        print (ccstar)        \n",
    "maskcc('1234567891011231')    \n",
    "    "
   ]
  },
  {
   "cell_type": "markdown",
   "metadata": {},
   "source": [
    "### 6. Are the Xs equal to the Os?\n",
    "Create a Python function that accepts a string. This function should count the number of Xs and the number of Os in the string. It should then return a boolean value of either True or False.\n",
    "\n",
    "If the count of Xs and Os are equal, then the function should return True. If the count isn't the same, it should return False. If there are no Xs or Os in the string, it should also return True because 0 equals 0. The string can contain any type and number of characters."
   ]
  },
  {
   "cell_type": "code",
   "execution_count": 67,
   "metadata": {},
   "outputs": [
    {
     "name": "stdout",
     "output_type": "stream",
     "text": [
      "True\n"
     ]
    }
   ],
   "source": [
    "def xo(string1,string2):\n",
    "    str1 = [x for x in string1 if x in 'X']\n",
    "    str2 = [y for y in string2 if y in 'O']\n",
    "    if len(str1) == len(str2):\n",
    "        print(True)\n",
    "    else:\n",
    "        print(False)    \n",
    "xo('XXX is a shite film','000 wankers OOO')    "
   ]
  },
  {
   "cell_type": "markdown",
   "metadata": {},
   "source": [
    "### 7. Create a calculator function\n",
    "Write a Python function that accepts three parameters. The first parameter is an integer. The second is one of the following mathematical operators: +, -, /, or . The third parameter will also be an integer.\n",
    "\n",
    "The function should perform a calculation and return the results. For example, if the function is passed 6 and 4, it should return 24."
   ]
  },
  {
   "cell_type": "code",
   "execution_count": 10,
   "metadata": {},
   "outputs": [
    {
     "data": {
      "text/plain": [
       "1.5"
      ]
     },
     "execution_count": 10,
     "metadata": {},
     "output_type": "execute_result"
    }
   ],
   "source": [
    "def calc(int1 ,op,int2):\n",
    "        if op == '+':\n",
    "            return (int1+int2)\n",
    "        elif op == '-':\n",
    "            return (int1-int2)\n",
    "        elif op == '*':\n",
    "            return (int1*int2)\n",
    "        elif op == \"/\":\n",
    "            return (int1/int2)\n",
    "        elif op == \"//\":\n",
    "            return (int1//int2)\n",
    "calc (3,'/',2)        \n",
    "        "
   ]
  },
  {
   "cell_type": "markdown",
   "metadata": {},
   "source": [
    "### 8. Give me the discount\n",
    "Create a function in Python that accepts two parameters. The first should be the full price of an item as an integer. The second should be the discount percentage as an integer.\n",
    "\n",
    "The function should return the price of the item after the discount has been applied. For example, if the price is 100 and the discount is 20, the function should return 80"
   ]
  },
  {
   "cell_type": "code",
   "execution_count": 15,
   "metadata": {},
   "outputs": [
    {
     "data": {
      "text/plain": [
       "154.0"
      ]
     },
     "execution_count": 15,
     "metadata": {},
     "output_type": "execute_result"
    }
   ],
   "source": [
    "def discount_func (fprice,dcout):\n",
    "    # fprice is the full price, dcount is the discount percentage\n",
    "    return ((fprice/100) *(100-dcout))\n",
    "discount_func (200,23)"
   ]
  },
  {
   "cell_type": "markdown",
   "metadata": {},
   "source": [
    "### 9. Just the numbers\n",
    "Write a function in Python that accepts a list of any length that contains a mix of non-negative integers and strings. The function should return a list with only the integers in the original list in the same order."
   ]
  },
  {
   "cell_type": "code",
   "execution_count": 28,
   "metadata": {},
   "outputs": [
    {
     "data": {
      "text/plain": [
       "[1, 2, 3, 4, 12]"
      ]
     },
     "execution_count": 28,
     "metadata": {},
     "output_type": "execute_result"
    }
   ],
   "source": [
    "def jusnum(alpha):\n",
    "    nums = [x for x in alpha if isinstance(x,int)]\n",
    "    return(nums)\n",
    "\n",
    "jusnum([1,2,'f','h',3,4,12])"
   ]
  },
  {
   "cell_type": "markdown",
   "metadata": {},
   "source": [
    "### 10. Repeat the characters\n",
    "Create a Python function that accepts a string. The function should return a string, with each character in the original string doubled. If you send the function \"now\" as a parameter, it should return \"nnooww,\" and if you send \"123a!\", it should return \"112233aa!!\"."
   ]
  },
  {
   "cell_type": "code",
   "execution_count": 34,
   "metadata": {},
   "outputs": [
    {
     "data": {
      "text/plain": [
       "'ttwwaatt33'"
      ]
     },
     "execution_count": 34,
     "metadata": {},
     "output_type": "execute_result"
    }
   ],
   "source": [
    "def double(stdoule:str): \n",
    "    text =list(stdoule)\n",
    "\n",
    "    new = \"\"\n",
    "    for char in text:\n",
    "        new += char *2\n",
    "    return (new)    \n",
    "\n",
    "double('twat3')"
   ]
  },
  {
   "cell_type": "markdown",
   "metadata": {},
   "source": [
    "#### Given two non-negative integers low and high. Return the count of odd numbers between low and high (inclusive).\n",
    "\n",
    "Input: low = 3, high = 7\n",
    "Output: 3\n",
    "Explanation: The odd numbers between 3 and 7 are [3,5,7]."
   ]
  },
  {
   "cell_type": "code",
   "execution_count": 4,
   "metadata": {},
   "outputs": [
    {
     "ename": "TypeError",
     "evalue": "countOdds() missing 1 required positional argument: 'high'",
     "output_type": "error",
     "traceback": [
      "\u001b[1;31m---------------------------------------------------------------------------\u001b[0m",
      "\u001b[1;31mTypeError\u001b[0m                                 Traceback (most recent call last)",
      "\u001b[1;32me:\\My Drive\\python\\Schafer\\py_projects.ipynb Cell 23'\u001b[0m in \u001b[0;36m<cell line: 1>\u001b[1;34m()\u001b[0m\n\u001b[1;32m----> <a href='vscode-notebook-cell:/e%3A/My%20Drive/python/Schafer/py_projects.ipynb#ch0000021?line=0'>1</a>\u001b[0m \u001b[39mclass\u001b[39;00m \u001b[39mSolution\u001b[39;00m:\n\u001b[0;32m      <a href='vscode-notebook-cell:/e%3A/My%20Drive/python/Schafer/py_projects.ipynb#ch0000021?line=1'>2</a>\u001b[0m     \u001b[39mdef\u001b[39;00m \u001b[39mcountOdds\u001b[39m(\u001b[39mself\u001b[39m, low: \u001b[39mint\u001b[39m, high: \u001b[39mint\u001b[39m) \u001b[39m-\u001b[39m\u001b[39m>\u001b[39m \u001b[39mint\u001b[39m:\n\u001b[0;32m      <a href='vscode-notebook-cell:/e%3A/My%20Drive/python/Schafer/py_projects.ipynb#ch0000021?line=2'>3</a>\u001b[0m         \u001b[39mself\u001b[39m\u001b[39m.\u001b[39mlow \u001b[39m=\u001b[39m low\n",
      "\u001b[1;32me:\\My Drive\\python\\Schafer\\py_projects.ipynb Cell 23'\u001b[0m in \u001b[0;36mSolution\u001b[1;34m()\u001b[0m\n\u001b[0;32m      <a href='vscode-notebook-cell:/e%3A/My%20Drive/python/Schafer/py_projects.ipynb#ch0000021?line=4'>5</a>\u001b[0m     c \u001b[39m=\u001b[39m (high \u001b[39m+\u001b[39m low \u001b[39m/\u001b[39m\u001b[39m2\u001b[39m)\n\u001b[0;32m      <a href='vscode-notebook-cell:/e%3A/My%20Drive/python/Schafer/py_projects.ipynb#ch0000021?line=5'>6</a>\u001b[0m     \u001b[39mreturn\u001b[39;00m (c)\n\u001b[1;32m----> <a href='vscode-notebook-cell:/e%3A/My%20Drive/python/Schafer/py_projects.ipynb#ch0000021?line=7'>8</a>\u001b[0m c1 \u001b[39m=\u001b[39m countOdds(\u001b[39m3\u001b[39;49m,\u001b[39m7\u001b[39;49m)\n",
      "\u001b[1;31mTypeError\u001b[0m: countOdds() missing 1 required positional argument: 'high'"
     ]
    }
   ],
   "source": [
    "class Solution:\n",
    "    def countOdds(self, low: int, high: int) -> int:\n",
    "        self.low = low\n",
    "        self.high = high\n",
    "        c = (high + low /2)\n",
    "        return (c)\n",
    "    \n",
    "    c1 = countOdds(3,7)"
   ]
  },
  {
   "cell_type": "code",
   "execution_count": 83,
   "metadata": {},
   "outputs": [
    {
     "data": {
      "text/plain": [
       "3"
      ]
     },
     "execution_count": 83,
     "metadata": {},
     "output_type": "execute_result"
    }
   ],
   "source": [
    "class Solution:\n",
    "    def countOdds( low: int, high: int) -> int:\n",
    "        #self.low = low\n",
    "        #self.high = high\n",
    "        if low % 2==0 and high % 2==0: \n",
    "             rang =  ([*range(low-1,high,2)])  \n",
    "        elif low % 2!=0 and high % 2==0:    \n",
    "             rang = ( [*range(low,high,2)])\n",
    "        elif low %2!=0 and high%2!=0:\n",
    "             rang = ([*range(low,high+1,2)])    \n",
    "        elif low %2==0 and high%2!=0:\n",
    "            rang = ([*range(low+1,high+1,2)]) \n",
    "        \n",
    "        return(len(rang))    \n",
    "    \n",
    "Solution.countOdds(3,7)\n"
   ]
  },
  {
   "cell_type": "code",
   "execution_count": 89,
   "metadata": {},
   "outputs": [
    {
     "data": {
      "text/plain": [
       "3"
      ]
     },
     "execution_count": 89,
     "metadata": {},
     "output_type": "execute_result"
    }
   ],
   "source": [
    "class Solution:\n",
    "    def countOdds(self, low: int, high: int) -> int:\n",
    "            if low % 2==0 and high % 2==0: \n",
    "                rang =  ([*range(low-1,high,2)])  \n",
    "            elif low % 2!=0 and high % 2==0:    \n",
    "                rang = ( [*range(low,high,2)])\n",
    "            elif low %2!=0 and high%2!=0:\n",
    "                 rang = ([*range(low,high+1,2)])    \n",
    "            elif low %2==0 and high%2!=0:\n",
    "                rang = ([*range(low+1,high+1,2)]) \n",
    "            return(len(rang))   \n"
   ]
  },
  {
   "cell_type": "code",
   "execution_count": 92,
   "metadata": {},
   "outputs": [
    {
     "data": {
      "text/plain": [
       "3"
      ]
     },
     "execution_count": 92,
     "metadata": {},
     "output_type": "execute_result"
    }
   ],
   "source": [
    "class Solution:\n",
    "    def countOdds(self, low: int, high: int) -> int:\n",
    "        inteval=high-low\n",
    "        if low %2==0 and high%2==0:\n",
    "         return (inteval//2)\n",
    "        if low %2!=0 or high%2!=0:\n",
    "         return (1+inteval//2)\n",
    "countOdds(3,7)        "
   ]
  },
  {
   "cell_type": "markdown",
   "metadata": {},
   "source": [
    "You are given an array of unique integers salary where salary[i] is the salary of the ith employee.\n",
    "\n",
    "Return the average salary of employees excluding the minimum and maximum salary. Answers within 10-5 of the actual answer will be accepted."
   ]
  },
  {
   "cell_type": "code",
   "execution_count": 94,
   "metadata": {},
   "outputs": [
    {
     "ename": "NameError",
     "evalue": "name 'average' is not defined",
     "output_type": "error",
     "traceback": [
      "\u001b[1;31m---------------------------------------------------------------------------\u001b[0m",
      "\u001b[1;31mNameError\u001b[0m                                 Traceback (most recent call last)",
      "\u001b[1;32me:\\My Drive\\python\\Schafer\\py_projects.ipynb Cell 28'\u001b[0m in \u001b[0;36m<cell line: 6>\u001b[1;34m()\u001b[0m\n\u001b[0;32m      <a href='vscode-notebook-cell:/e%3A/My%20Drive/python/Schafer/py_projects.ipynb#ch0000030?line=2'>3</a>\u001b[0m         lenlist \u001b[39m=\u001b[39m \u001b[39mlen\u001b[39m(salary)\n\u001b[0;32m      <a href='vscode-notebook-cell:/e%3A/My%20Drive/python/Schafer/py_projects.ipynb#ch0000030?line=3'>4</a>\u001b[0m         \u001b[39mreturn\u001b[39;00m(salary)\n\u001b[1;32m----> <a href='vscode-notebook-cell:/e%3A/My%20Drive/python/Schafer/py_projects.ipynb#ch0000030?line=5'>6</a>\u001b[0m average ([\u001b[39m4000\u001b[39m,\u001b[39m3000\u001b[39m,\u001b[39m1000\u001b[39m,\u001b[39m2000\u001b[39m])\n",
      "\u001b[1;31mNameError\u001b[0m: name 'average' is not defined"
     ]
    }
   ],
   "source": [
    "class Solution:\n",
    "    def average(self, salary: list[int]) -> float:\n",
    "       def average(salary: list[int]) -> float: \n",
    "        salmin = min(salary) \n",
    "        salmax = max(salary)\n",
    "        saltot = sum(salary)   \n",
    "        salnum = len(salary)\n",
    "        salavg = (saltot-(salmin+salmax))/(salnum-2)\n",
    "        return(salavg)  \n",
    "        \n",
    "average ([4000,3000,1000,2000])        \n",
    "        "
   ]
  },
  {
   "cell_type": "code",
   "execution_count": 117,
   "metadata": {},
   "outputs": [
    {
     "data": {
      "text/plain": [
       "2500.0"
      ]
     },
     "execution_count": 117,
     "metadata": {},
     "output_type": "execute_result"
    }
   ],
   "source": [
    "def average(salary: list[int]) -> float: \n",
    "        salmin = min(salary) \n",
    "        salmax = max(salary)\n",
    "        saltot = sum(salary)   \n",
    "        salnum = len(salary)\n",
    "        salavg = (saltot-(salmin+salmax))/(salnum-2)\n",
    "        return(salavg)        \n",
    "average ([4000,3000,1000,2000]) "
   ]
  },
  {
   "cell_type": "code",
   "execution_count": 115,
   "metadata": {},
   "outputs": [
    {
     "name": "stdout",
     "output_type": "stream",
     "text": [
      "[100, 82, 65, 50, 23]\n"
     ]
    }
   ],
   "source": [
    "thislist = [100, 50, 65, 82, 23]\n",
    "thislist.sort(reverse = True)\n",
    "print(thislist)"
   ]
  },
  {
   "cell_type": "markdown",
   "metadata": {},
   "source": [
    "Given an array of integers nums and an integer target, return indices of the two numbers such that they add up to target.\n",
    "\n",
    "You may assume that each input would have exactly one solution, and you may not use the same element twice.\n",
    "\n",
    "You can return the answer in any order."
   ]
  },
  {
   "cell_type": "code",
   "execution_count": null,
   "metadata": {},
   "outputs": [],
   "source": [
    "class Solution:\n",
    "    def twoSum(self, nums: list[int], target: int) -> list[int]:\n",
    "        "
   ]
  },
  {
   "cell_type": "code",
   "execution_count": 19,
   "metadata": {},
   "outputs": [
    {
     "name": "stdout",
     "output_type": "stream",
     "text": [
      "0 2\n",
      "1 7\n",
      "2 11\n",
      "3 15\n"
     ]
    }
   ],
   "source": [
    "        def twoSum(nums: list[int], target: int) -> list[int]:\n",
    "            di = {}\n",
    "            for i,value in enumerate(nums):\n",
    "                if value - target\n",
    "           \n",
    "            \n",
    "\n",
    "\n",
    "        twoSum([2,7,11,15],9)\n",
    "    "
   ]
  },
  {
   "cell_type": "code",
   "execution_count": 6,
   "metadata": {},
   "outputs": [
    {
     "name": "stdout",
     "output_type": "stream",
     "text": [
      "<enumerate object at 0x00000247000C5E40>\n"
     ]
    }
   ],
   "source": []
  },
  {
   "cell_type": "code",
   "execution_count": 13,
   "metadata": {},
   "outputs": [
    {
     "data": {
      "text/plain": [
       "[1, 0]"
      ]
     },
     "execution_count": 13,
     "metadata": {},
     "output_type": "execute_result"
    }
   ],
   "source": [
    "def twoSum( nums: list[int], target: int) -> list[int]:\n",
    "       seen = {}\n",
    "       for i, value in enumerate(nums):\n",
    "           remaining = target - nums[i]\n",
    "           \n",
    "           if remaining in seen:\n",
    "               return [i, seen[remaining]]\n",
    "            \n",
    "           seen[value] = i \n",
    "twoSum([2,7,11,15],9)  \n",
    "       "
   ]
  },
  {
   "cell_type": "markdown",
   "metadata": {},
   "source": [
    "### 191. Number of 1 Bits\n",
    "\n",
    "Write a function that takes an unsigned integer and returns the number of '1' bits it has (also known as the Hamming weight).\n",
    "\n",
    "Note:\n",
    "\n",
    "Note that in some languages, such as Java, there is no unsigned integer type. In this case, the input will be given as a signed integer type. It should not affect your implementation, as the integer's internal binary representation is the same, whether it is signed or unsigned.\n",
    "In Java, the compiler represents the signed integers using 2's complement notation. Therefore, in Example 3, the input represents the signed integer. -3."
   ]
  },
  {
   "cell_type": "code",
   "execution_count": 41,
   "metadata": {},
   "outputs": [
    {
     "name": "stdout",
     "output_type": "stream",
     "text": [
      "0\n"
     ]
    }
   ],
   "source": [
    "class Solution:\n",
    "    def hammingWeight(self,n: int) -> int:\n",
    "        nstr = list(bin(n))\n",
    "        count_bin = nstr.count('1')\n",
    "        return (count_bin)     \n",
    "  \n",
    "hammingWeight(b'00000000000000000000000000001011')    "
   ]
  },
  {
   "cell_type": "markdown",
   "metadata": {},
   "source": [
    "### 1281. Subtract the Product and Sum of Digits of an Integer\n",
    "\n",
    "\n",
    "Share\n",
    "Given an integer number n, return the difference between the product of its digits and the sum of its digits."
   ]
  },
  {
   "cell_type": "code",
   "execution_count": 56,
   "metadata": {},
   "outputs": [
    {
     "data": {
      "text/plain": [
       "15"
      ]
     },
     "execution_count": 56,
     "metadata": {},
     "output_type": "execute_result"
    }
   ],
   "source": [
    "class Solution:\n",
    "        def subtractProductAndSum(n: int) -> int:\n",
    "                nlst = list(str(n))\n",
    "                intlst = [int(i) for i in nlst]\n",
    "                intlstmut = 1\n",
    "                for x in intlst:\n",
    "                        intlstmut = intlstmut *x         \n",
    "                intlstsum = sum(intlst)\n",
    "                intlstres = intlstmut-intlstsum\n",
    "                return (intlstres)\n",
    "\n",
    "Solution.subtractProductAndSum(234)        "
   ]
  },
  {
   "cell_type": "markdown",
   "metadata": {},
   "source": [
    "Given an integer array nums, return the largest perimeter of a triangle with a non-zero area, formed from three of these lengths. If it is impossible to form any triangle of a non-zero area, return 0."
   ]
  },
  {
   "cell_type": "markdown",
   "metadata": {},
   "source": [
    "area of a triangle is 1/2 *b*h\n",
    "perimeter is simple sum of values\n"
   ]
  },
  {
   "cell_type": "code",
   "execution_count": 5,
   "metadata": {},
   "outputs": [
    {
     "name": "stdout",
     "output_type": "stream",
     "text": [
      "None\n"
     ]
    }
   ],
   "source": [
    "class Solution:\n",
    "    def largestPerimeter( nums: list[int]) -> int:\n",
    "        return nums.sort())\n",
    "        \n",
    "Solution.largestPerimeter([2,1,2])        "
   ]
  },
  {
   "cell_type": "code",
   "execution_count": null,
   "metadata": {},
   "outputs": [],
   "source": []
  }
 ],
 "metadata": {
  "interpreter": {
   "hash": "ba394464748533f99e013e62d24be6b7bc8164bcf605d0f3371032e6c57a3574"
  },
  "kernelspec": {
   "display_name": "Python 3.9.10 64-bit (windows store)",
   "language": "python",
   "name": "python3"
  },
  "language_info": {
   "codemirror_mode": {
    "name": "ipython",
    "version": 3
   },
   "file_extension": ".py",
   "mimetype": "text/x-python",
   "name": "python",
   "nbconvert_exporter": "python",
   "pygments_lexer": "ipython3",
   "version": "3.9.12"
  },
  "orig_nbformat": 4
 },
 "nbformat": 4,
 "nbformat_minor": 2
}
